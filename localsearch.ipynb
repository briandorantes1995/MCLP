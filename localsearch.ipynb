{
 "cells": [
  {
   "cell_type": "code",
   "execution_count": 28,
   "metadata": {},
   "outputs": [
    {
     "name": "stdout",
     "output_type": "stream",
     "text": [
      "[[1, 3], 33, array([ 1,  3,  4,  5,  6,  7,  8, 10, 11, 13, 14, 15, 16, 18, 19, 20, 21,\n",
      "       23, 26, 28, 29, 30, 31, 32, 33, 35, 36, 37, 38, 44, 45, 47, 49, 50]), 1068]\n",
      "[[1, 2], 37, array([ 1,  3,  4,  5,  6,  7,  8, 10, 11, 13, 14, 15, 16, 18, 19, 20, 21,\n",
      "       22, 23, 26, 28, 29, 30, 31, 32, 33, 34, 35, 36, 37, 38, 39, 40, 44,\n",
      "       45, 47, 49, 50]), 1211]\n",
      "[[1, 5], 31, array([ 1,  2,  4,  5,  6,  7,  8, 10, 13, 15, 16, 17, 18, 19, 20, 21, 23,\n",
      "       25, 26, 28, 29, 30, 31, 32, 33, 35, 36, 37, 39, 44, 45, 50]), 1029]\n"
     ]
    },
    {
     "name": "stderr",
     "output_type": "stream",
     "text": [
      "/tmp/ipykernel_1103/2750907331.py:39: SettingWithCopyWarning: \n",
      "A value is trying to be set on a copy of a slice from a DataFrame\n",
      "\n",
      "See the caveats in the documentation: https://pandas.pydata.org/pandas-docs/stable/user_guide/indexing.html#returning-a-view-versus-a-copy\n",
      "  dfheuristic.loc['Total',:] = dfheuristic.sum(axis=0)\n",
      "/tmp/ipykernel_1103/2750907331.py:39: SettingWithCopyWarning: \n",
      "A value is trying to be set on a copy of a slice from a DataFrame\n",
      "\n",
      "See the caveats in the documentation: https://pandas.pydata.org/pandas-docs/stable/user_guide/indexing.html#returning-a-view-versus-a-copy\n",
      "  dfheuristic.loc['Total',:] = dfheuristic.sum(axis=0)\n",
      "/tmp/ipykernel_1103/2750907331.py:39: SettingWithCopyWarning: \n",
      "A value is trying to be set on a copy of a slice from a DataFrame\n",
      "\n",
      "See the caveats in the documentation: https://pandas.pydata.org/pandas-docs/stable/user_guide/indexing.html#returning-a-view-versus-a-copy\n",
      "  dfheuristic.loc['Total',:] = dfheuristic.sum(axis=0)\n",
      "/tmp/ipykernel_1103/2750907331.py:39: SettingWithCopyWarning: \n",
      "A value is trying to be set on a copy of a slice from a DataFrame\n",
      "\n",
      "See the caveats in the documentation: https://pandas.pydata.org/pandas-docs/stable/user_guide/indexing.html#returning-a-view-versus-a-copy\n",
      "  dfheuristic.loc['Total',:] = dfheuristic.sum(axis=0)\n",
      "/tmp/ipykernel_1103/2750907331.py:39: SettingWithCopyWarning: \n",
      "A value is trying to be set on a copy of a slice from a DataFrame\n",
      "\n",
      "See the caveats in the documentation: https://pandas.pydata.org/pandas-docs/stable/user_guide/indexing.html#returning-a-view-versus-a-copy\n",
      "  dfheuristic.loc['Total',:] = dfheuristic.sum(axis=0)\n",
      "/tmp/ipykernel_1103/2750907331.py:39: SettingWithCopyWarning: \n",
      "A value is trying to be set on a copy of a slice from a DataFrame\n",
      "\n",
      "See the caveats in the documentation: https://pandas.pydata.org/pandas-docs/stable/user_guide/indexing.html#returning-a-view-versus-a-copy\n",
      "  dfheuristic.loc['Total',:] = dfheuristic.sum(axis=0)\n"
     ]
    }
   ],
   "source": [
    "import pandas as pd\n",
    "import sys\n",
    "import time\n",
    "from sklearn.metrics.pairwise import euclidean_distances\n",
    "import numpy as np\n",
    "import matplotlib.pyplot as plt\n",
    "from MCLP import posiblelocations,n, costumerscoords, costumers, maximumdistance,facilities\n",
    "from itertools import combinations\n",
    "\n",
    "\n",
    "dist2 = euclidean_distances(posiblelocations, costumerscoords)\n",
    "\n",
    "# Convert back to dataframe.\n",
    "df = pd.DataFrame(dist2, columns=costumers.index, index=posiblelocations.index)\n",
    "\n",
    "df['coverednodes'] = df[df <= maximumdistance].count(1)\n",
    "df.sort_values(by=['coverednodes'], ascending=False, inplace=True)\n",
    "# This does the sorting, by covered nodes(it maximizes the covered nodes)\n",
    "\n",
    "dfheuristic = df.iloc[:facilities]\n",
    "\n",
    "def outputText(selectedlocations, totalcoverednodes, indexofnodes,totalpopulationserved ):\n",
    "        print(\"\\nThe used locationes are :\", selectedlocations)\n",
    "        # print(\"\\nThere are \"+str(totalcoverednodes)+\" nodes covered\\n\")\n",
    "        print('\\nThis are the covered nodes: ', indexofnodes)\n",
    "        print(\"\\nThe covered population is :\", totalpopulationserved)\n",
    "\n",
    "def binary(x,y):\n",
    "    dfheuristic  = df.iloc[[x,y]]\n",
    "    selectedlocations = list(dfheuristic.index.values)\n",
    "    for i in range(facilities):\n",
    "        for j in range(n):\n",
    "            g = np.where(dfheuristic .iloc[i, j] >= maximumdistance, True, False)\n",
    "            if g:\n",
    "                dfheuristic.iloc[i, j] = 1\n",
    "            else:\n",
    "                dfheuristic.iloc[i, j] = 0\n",
    "\n",
    "    dfheuristic.loc['Total',:] = dfheuristic.sum(axis=0)\n",
    "    dfheuristic [dfheuristic.iloc[-1:] > 1 ] = 1\n",
    "    Binary = dfheuristic.loc['Total',:].values.tolist()   \n",
    "    Binary = Binary[:-1] \n",
    "    costumers['Binary'] =Binary\n",
    "\n",
    "    totalcoverednodes = 0\n",
    "    totalpopulationserved = 0\n",
    "    for j in range(1,n):\n",
    "        z = np.where(costumers.loc[j,'Binary'] == 1, True, False)\n",
    "        if z:\n",
    "            totalcoverednodes += 1\n",
    "            totalpopulationserved += costumers.loc[j,'Demand']\n",
    "\n",
    "    # Get the index of the node covered\n",
    "    indexofnodes = costumers[costumers['Binary']== 1].index.values\n",
    "    #outputText(selectedlocations, totalcoverednodes, indexofnodes,totalpopulationserved)\n",
    "    return [selectedlocations, totalcoverednodes, indexofnodes,totalpopulationserved]\n",
    "\n",
    "\n",
    "\n",
    "for x in range(posiblelocations[\"X\"].count()):\n",
    "    if x <= 1: continue\n",
    "    value = binary(0,x) \n",
    "    print(value)\n",
    "\n",
    "for x in range(posiblelocations[\"X\"].count()):\n",
    "    \n",
    "    if x <= 1: continue\n",
    "    binary(x,1)      \n",
    "\n"
   ]
  },
  {
   "cell_type": "code",
   "execution_count": null,
   "metadata": {},
   "outputs": [],
   "source": []
  }
 ],
 "metadata": {
  "kernelspec": {
   "display_name": "Python 3.8.10 64-bit",
   "language": "python",
   "name": "python3"
  },
  "language_info": {
   "codemirror_mode": {
    "name": "ipython",
    "version": 3
   },
   "file_extension": ".py",
   "mimetype": "text/x-python",
   "name": "python",
   "nbconvert_exporter": "python",
   "pygments_lexer": "ipython3",
   "version": "3.8.10"
  },
  "orig_nbformat": 4,
  "vscode": {
   "interpreter": {
    "hash": "916dbcbb3f70747c44a77c7bcd40155683ae19c65e1c03b4aa3499c5328201f1"
   }
  }
 },
 "nbformat": 4,
 "nbformat_minor": 2
}
